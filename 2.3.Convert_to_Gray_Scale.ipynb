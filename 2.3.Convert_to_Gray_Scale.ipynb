{
 "cells": [
  {
   "cell_type": "markdown",
   "metadata": {},
   "source": [
    "# 2.3.Convert_to_Gray_Scale"
   ]
  },
  {
   "cell_type": "code",
   "execution_count": 1,
   "metadata": {},
   "outputs": [],
   "source": [
    "# Importamos la librerias\n",
    "import cv2\n",
    "import os"
   ]
  },
  {
   "cell_type": "code",
   "execution_count": 42,
   "metadata": {},
   "outputs": [],
   "source": [
    "image_size = 224 #tamaño de la imagen\n",
    "label = '200_frente'\n",
    "path_images_input = 'data_' + str(image_size) + '/validation/' + label + '/'\n",
    "path_images_output = 'data_' + str(image_size) + '/validation/' + label + '_gray/'"
   ]
  },
  {
   "cell_type": "code",
   "execution_count": 43,
   "metadata": {},
   "outputs": [
    {
     "name": "stdout",
     "output_type": "stream",
     "text": [
      "start convert gray color\n",
      "processing ...\n",
      "Images created: 300\n",
      "Images which can not created: 0\n"
     ]
    }
   ],
   "source": [
    "files = os.listdir(path_images_input)\n",
    "i = 0\n",
    "j = 0\n",
    "print(\"start convert gray color\")\n",
    "print(\"processing ...\")\n",
    "for file in files:\n",
    "    try:\n",
    "        path_image = path_images_input + file\n",
    "        image = cv2.imread(path_image)\n",
    "        image = cv2.cvtColor(image, cv2.COLOR_BGR2GRAY)\n",
    "        path_image_output = path_images_output + file\n",
    "        cv2.imwrite(path_image_output, image)\n",
    "        i += 1\n",
    "    except:\n",
    "        j += 1\n",
    "        \n",
    "print(\"Images created: \" + str(i))\n",
    "print(\"Images which can not created: \" + str(j))"
   ]
  },
  {
   "cell_type": "code",
   "execution_count": null,
   "metadata": {},
   "outputs": [],
   "source": []
  }
 ],
 "metadata": {
  "kernelspec": {
   "display_name": "Python 3",
   "language": "python",
   "name": "python3"
  },
  "language_info": {
   "codemirror_mode": {
    "name": "ipython",
    "version": 3
   },
   "file_extension": ".py",
   "mimetype": "text/x-python",
   "name": "python",
   "nbconvert_exporter": "python",
   "pygments_lexer": "ipython3",
   "version": "3.6.9"
  }
 },
 "nbformat": 4,
 "nbformat_minor": 4
}
