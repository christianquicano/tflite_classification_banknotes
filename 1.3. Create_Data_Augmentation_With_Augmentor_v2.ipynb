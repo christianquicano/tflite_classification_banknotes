{
 "cells": [
  {
   "cell_type": "markdown",
   "metadata": {},
   "source": [
    "### 1.3. Create_Data_Augmentation_With_Augmentor_v2\n",
    "https://github.com/mdbloice/Augmentor"
   ]
  },
  {
   "cell_type": "code",
   "execution_count": 1,
   "metadata": {},
   "outputs": [],
   "source": [
    "# install the package\n",
    "# !pip install Augmentor"
   ]
  },
  {
   "cell_type": "code",
   "execution_count": 2,
   "metadata": {},
   "outputs": [],
   "source": [
    "import Augmentor"
   ]
  },
  {
   "cell_type": "code",
   "execution_count": 3,
   "metadata": {},
   "outputs": [],
   "source": [
    "label = '50_frente'\n",
    "path_img = 'data_augmentation/source/' + label + '/'"
   ]
  },
  {
   "cell_type": "code",
   "execution_count": 4,
   "metadata": {},
   "outputs": [
    {
     "name": "stderr",
     "output_type": "stream",
     "text": [
      "\r",
      "Executing Pipeline:   0%|          | 0/28 [00:00<?, ? Samples/s]"
     ]
    },
    {
     "name": "stdout",
     "output_type": "stream",
     "text": [
      "Initialised with 28 image(s) found.\n",
      "Output directory set to data_augmentation/source/50_frente/output."
     ]
    },
    {
     "name": "stderr",
     "output_type": "stream",
     "text": [
      "Processing <PIL.Image.Image image mode=RGB size=1920x1920 at 0x7FC9E42382B0>: 100%|██████████| 28/28 [00:02<00:00, 10.53 Samples/s]\n"
     ]
    }
   ],
   "source": [
    "# random skew + rotate\n",
    "p4 = Augmentor.Pipeline(path_img)\n",
    "p4.skew_left_right(probability=1, magnitude=1)\n",
    "p4.rotate(probability=1, max_left_rotation=25, max_right_rotation=25)\n",
    "p4.process()"
   ]
  },
  {
   "cell_type": "code",
   "execution_count": 5,
   "metadata": {},
   "outputs": [
    {
     "name": "stderr",
     "output_type": "stream",
     "text": [
      "\r",
      "Executing Pipeline:   0%|          | 0/28 [00:00<?, ? Samples/s]"
     ]
    },
    {
     "name": "stdout",
     "output_type": "stream",
     "text": [
      "Initialised with 28 image(s) found.\n",
      "Output directory set to data_augmentation/source/50_frente/output."
     ]
    },
    {
     "name": "stderr",
     "output_type": "stream",
     "text": [
      "Processing <PIL.Image.Image image mode=RGB size=1920x1920 at 0x7FC9E4255CF8>: 100%|██████████| 28/28 [00:02<00:00, 10.37 Samples/s]\n"
     ]
    }
   ],
   "source": [
    "# random skew + rotate\n",
    "p4 = Augmentor.Pipeline(path_img)\n",
    "p4.skew_top_bottom(probability=1, magnitude=1)\n",
    "p4.rotate(probability=1, max_left_rotation=25, max_right_rotation=25)\n",
    "p4.process()"
   ]
  },
  {
   "cell_type": "code",
   "execution_count": 6,
   "metadata": {},
   "outputs": [
    {
     "name": "stderr",
     "output_type": "stream",
     "text": [
      "\r",
      "Executing Pipeline:   0%|          | 0/28 [00:00<?, ? Samples/s]"
     ]
    },
    {
     "name": "stdout",
     "output_type": "stream",
     "text": [
      "Initialised with 28 image(s) found.\n",
      "Output directory set to data_augmentation/source/50_frente/output."
     ]
    },
    {
     "name": "stderr",
     "output_type": "stream",
     "text": [
      "Processing <PIL.Image.Image image mode=RGB size=1920x1920 at 0x7FC9E424C400>: 100%|██████████| 28/28 [00:02<00:00, 10.17 Samples/s]\n"
     ]
    }
   ],
   "source": [
    "# random skew + rotate\n",
    "p4 = Augmentor.Pipeline(path_img)\n",
    "p4.skew_corner(probability=1, magnitude=1)\n",
    "p4.rotate(probability=1, max_left_rotation=25, max_right_rotation=25)\n",
    "p4.process()"
   ]
  },
  {
   "cell_type": "code",
   "execution_count": 7,
   "metadata": {},
   "outputs": [
    {
     "name": "stderr",
     "output_type": "stream",
     "text": [
      "\r",
      "Executing Pipeline:   0%|          | 0/28 [00:00<?, ? Samples/s]"
     ]
    },
    {
     "name": "stdout",
     "output_type": "stream",
     "text": [
      "Initialised with 28 image(s) found.\n",
      "Output directory set to data_augmentation/source/50_frente/output."
     ]
    },
    {
     "name": "stderr",
     "output_type": "stream",
     "text": [
      "Processing <PIL.Image.Image image mode=RGB size=1920x1920 at 0x7FC9E424EEF0>: 100%|██████████| 28/28 [00:02<00:00, 10.18 Samples/s]\n"
     ]
    }
   ],
   "source": [
    "# random skew + rotate\n",
    "p4 = Augmentor.Pipeline(path_img)\n",
    "p4.skew_tilt(probability=1, magnitude=1)\n",
    "p4.rotate(probability=1, max_left_rotation=25, max_right_rotation=25)\n",
    "p4.process()"
   ]
  },
  {
   "cell_type": "code",
   "execution_count": 8,
   "metadata": {},
   "outputs": [
    {
     "name": "stderr",
     "output_type": "stream",
     "text": [
      "\r",
      "Executing Pipeline:   0%|          | 0/28 [00:00<?, ? Samples/s]"
     ]
    },
    {
     "name": "stdout",
     "output_type": "stream",
     "text": [
      "Initialised with 28 image(s) found.\n",
      "Output directory set to data_augmentation/source/50_frente/output."
     ]
    },
    {
     "name": "stderr",
     "output_type": "stream",
     "text": [
      "Processing <PIL.Image.Image image mode=RGB size=1920x1920 at 0x7FC9E424C208>: 100%|██████████| 28/28 [00:02<00:00,  9.82 Samples/s]\n"
     ]
    }
   ],
   "source": [
    "# random skew + rotate\n",
    "p4 = Augmentor.Pipeline(path_img)\n",
    "p4.skew(probability=1, magnitude=1)\n",
    "p4.rotate(probability=1, max_left_rotation=25, max_right_rotation=25)\n",
    "p4.process()"
   ]
  },
  {
   "cell_type": "code",
   "execution_count": 9,
   "metadata": {},
   "outputs": [
    {
     "name": "stderr",
     "output_type": "stream",
     "text": [
      "\r",
      "Executing Pipeline:   0%|          | 0/28 [00:00<?, ? Samples/s]"
     ]
    },
    {
     "name": "stdout",
     "output_type": "stream",
     "text": [
      "Initialised with 28 image(s) found.\n",
      "Output directory set to data_augmentation/source/50_frente/output."
     ]
    },
    {
     "name": "stderr",
     "output_type": "stream",
     "text": [
      "Processing <PIL.Image.Image image mode=RGB size=1920x1920 at 0x7FC9E4AC9710>: 100%|██████████| 28/28 [00:03<00:00,  8.59 Samples/s]\n"
     ]
    }
   ],
   "source": [
    "# random_distortion+ rotate\n",
    "p4 = Augmentor.Pipeline(path_img)\n",
    "p4.random_distortion(probability=1, magnitude=20, grid_width=22, grid_height=22)\n",
    "p4.rotate(probability=1, max_left_rotation=25, max_right_rotation=25)\n",
    "p4.process()"
   ]
  },
  {
   "cell_type": "code",
   "execution_count": 10,
   "metadata": {},
   "outputs": [
    {
     "name": "stderr",
     "output_type": "stream",
     "text": [
      "\r",
      "Executing Pipeline:   0%|          | 0/28 [00:00<?, ? Samples/s]"
     ]
    },
    {
     "name": "stdout",
     "output_type": "stream",
     "text": [
      "Initialised with 28 image(s) found.\n",
      "Output directory set to data_augmentation/source/50_frente/output."
     ]
    },
    {
     "name": "stderr",
     "output_type": "stream",
     "text": [
      "Processing <PIL.Image.Image image mode=RGB size=1920x1920 at 0x7FC9E4230EF0>: 100%|██████████| 28/28 [00:02<00:00,  9.51 Samples/s]\n"
     ]
    }
   ],
   "source": [
    "# shear+ rotate\n",
    "p4 = Augmentor.Pipeline(path_img)\n",
    "p4.shear(probability=1, max_shear_left=25, max_shear_right=25)\n",
    "p4.rotate(probability=1, max_left_rotation=25, max_right_rotation=25)\n",
    "p4.process()"
   ]
  },
  {
   "cell_type": "code",
   "execution_count": 11,
   "metadata": {},
   "outputs": [
    {
     "name": "stderr",
     "output_type": "stream",
     "text": [
      "\r",
      "Executing Pipeline:   0%|          | 0/28 [00:00<?, ? Samples/s]"
     ]
    },
    {
     "name": "stdout",
     "output_type": "stream",
     "text": [
      "Initialised with 28 image(s) found.\n",
      "Output directory set to data_augmentation/source/50_frente/output."
     ]
    },
    {
     "name": "stderr",
     "output_type": "stream",
     "text": [
      "Processing <PIL.Image.Image image mode=RGB size=1152x1152 at 0x7FC9E423E588>: 100%|██████████| 28/28 [00:01<00:00, 16.38 Samples/s]\n"
     ]
    }
   ],
   "source": [
    "# crop_random + rotate\n",
    "p4 = Augmentor.Pipeline(path_img)\n",
    "p4.rotate(probability=1, max_left_rotation=25, max_right_rotation=25)\n",
    "p4.crop_random(probability=1, percentage_area=0.6)\n",
    "p4.process()"
   ]
  },
  {
   "cell_type": "code",
   "execution_count": 12,
   "metadata": {},
   "outputs": [
    {
     "name": "stderr",
     "output_type": "stream",
     "text": [
      "\r",
      "Executing Pipeline:   0%|          | 0/28 [00:00<?, ? Samples/s]"
     ]
    },
    {
     "name": "stdout",
     "output_type": "stream",
     "text": [
      "Initialised with 28 image(s) found.\n",
      "Output directory set to data_augmentation/source/50_frente/output."
     ]
    },
    {
     "name": "stderr",
     "output_type": "stream",
     "text": [
      "Processing <PIL.Image.Image image mode=RGB size=1152x1152 at 0x7FC9E4230240>: 100%|██████████| 28/28 [00:01<00:00, 16.27 Samples/s]\n"
     ]
    }
   ],
   "source": [
    "# crop_random + rotate\n",
    "p4 = Augmentor.Pipeline(path_img)\n",
    "p4.rotate(probability=1, max_left_rotation=25, max_right_rotation=25)\n",
    "p4.crop_random(probability=1, percentage_area=0.6)\n",
    "p4.process()"
   ]
  },
  {
   "cell_type": "code",
   "execution_count": 13,
   "metadata": {},
   "outputs": [
    {
     "name": "stderr",
     "output_type": "stream",
     "text": [
      "\r",
      "Executing Pipeline:   0%|          | 0/28 [00:00<?, ? Samples/s]"
     ]
    },
    {
     "name": "stdout",
     "output_type": "stream",
     "text": [
      "Initialised with 28 image(s) found.\n",
      "Output directory set to data_augmentation/source/50_frente/output."
     ]
    },
    {
     "name": "stderr",
     "output_type": "stream",
     "text": [
      "Processing <PIL.Image.Image image mode=RGB size=1344x1344 at 0x7FC9E42822B0>: 100%|██████████| 28/28 [00:01<00:00, 16.82 Samples/s]\n"
     ]
    }
   ],
   "source": [
    "# crop_random + rotate\n",
    "p4 = Augmentor.Pipeline(path_img)\n",
    "p4.rotate(probability=1, max_left_rotation=25, max_right_rotation=25)\n",
    "p4.crop_random(probability=1, percentage_area=0.7)\n",
    "p4.process()"
   ]
  },
  {
   "cell_type": "code",
   "execution_count": 14,
   "metadata": {},
   "outputs": [
    {
     "name": "stderr",
     "output_type": "stream",
     "text": [
      "\r",
      "Executing Pipeline:   0%|          | 0/28 [00:00<?, ? Samples/s]"
     ]
    },
    {
     "name": "stdout",
     "output_type": "stream",
     "text": [
      "Initialised with 28 image(s) found.\n",
      "Output directory set to data_augmentation/source/50_frente/output."
     ]
    },
    {
     "name": "stderr",
     "output_type": "stream",
     "text": [
      "Processing <PIL.Image.Image image mode=RGB size=1344x1344 at 0x7FC9E4208208>: 100%|██████████| 28/28 [00:01<00:00, 16.09 Samples/s]\n"
     ]
    }
   ],
   "source": [
    "# crop_random + rotate\n",
    "p4 = Augmentor.Pipeline(path_img)\n",
    "p4.rotate(probability=1, max_left_rotation=25, max_right_rotation=25)\n",
    "p4.crop_random(probability=1, percentage_area=0.7)\n",
    "p4.process()"
   ]
  }
 ],
 "metadata": {
  "kernelspec": {
   "display_name": "Python 3",
   "language": "python",
   "name": "python3"
  },
  "language_info": {
   "codemirror_mode": {
    "name": "ipython",
    "version": 3
   },
   "file_extension": ".py",
   "mimetype": "text/x-python",
   "name": "python",
   "nbconvert_exporter": "python",
   "pygments_lexer": "ipython3",
   "version": "3.6.9"
  }
 },
 "nbformat": 4,
 "nbformat_minor": 4
}
