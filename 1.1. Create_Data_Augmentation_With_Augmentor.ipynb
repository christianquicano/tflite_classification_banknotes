{
 "cells": [
  {
   "cell_type": "markdown",
   "metadata": {},
   "source": [
    "# 1.1. Create_Data_Augmentation_With_Augmentor\n",
    "https://github.com/mdbloice/Augmentor"
   ]
  },
  {
   "cell_type": "code",
   "execution_count": 1,
   "metadata": {},
   "outputs": [],
   "source": [
    "# install the package\n",
    "# !pip install Augmentor"
   ]
  },
  {
   "cell_type": "code",
   "execution_count": 2,
   "metadata": {},
   "outputs": [],
   "source": [
    "import Augmentor"
   ]
  },
  {
   "cell_type": "code",
   "execution_count": 3,
   "metadata": {},
   "outputs": [],
   "source": [
    "label = '200_frente'\n",
    "path_img = 'data_augmentation/source/' + label + '/'\n",
    "sample_per_configurator = 50"
   ]
  },
  {
   "cell_type": "code",
   "execution_count": 4,
   "metadata": {},
   "outputs": [
    {
     "name": "stderr",
     "output_type": "stream",
     "text": [
      "\r",
      "Executing Pipeline:   0%|          | 0/25 [00:00<?, ? Samples/s]"
     ]
    },
    {
     "name": "stdout",
     "output_type": "stream",
     "text": [
      "Initialised with 25 image(s) found.\n",
      "Output directory set to data_augmentation/source/200_frente/output."
     ]
    },
    {
     "name": "stderr",
     "output_type": "stream",
     "text": [
      "Processing <PIL.Image.Image image mode=RGBA size=1920x1920 at 0x7FBA8C0ED278>: 100%|██████████| 25/25 [00:05<00:00,  4.28 Samples/s]\n"
     ]
    }
   ],
   "source": [
    "# random distortion + rotate\n",
    "p1 = Augmentor.Pipeline(path_img)\n",
    "p1.rotate(probability=1.0, max_left_rotation=20, max_right_rotation=20)\n",
    "p1.random_distortion(probability=1, grid_width=30, grid_height=30, magnitude=8)\n",
    "#p1.sample(sample_per_configurator)\n",
    "p1.process()"
   ]
  },
  {
   "cell_type": "code",
   "execution_count": 5,
   "metadata": {},
   "outputs": [
    {
     "name": "stderr",
     "output_type": "stream",
     "text": [
      "\r",
      "Executing Pipeline:   0%|          | 0/25 [00:00<?, ? Samples/s]"
     ]
    },
    {
     "name": "stdout",
     "output_type": "stream",
     "text": [
      "Initialised with 25 image(s) found.\n",
      "Output directory set to data_augmentation/source/200_frente/output."
     ]
    },
    {
     "name": "stderr",
     "output_type": "stream",
     "text": [
      "Processing <PIL.Image.Image image mode=RGBA size=1920x1920 at 0x7FBA8C0ED160>: 100%|██████████| 25/25 [00:06<00:00,  4.11 Samples/s]\n"
     ]
    }
   ],
   "source": [
    "# random distortion + rotate\n",
    "p1 = Augmentor.Pipeline(path_img)\n",
    "p1.rotate(probability=1.0, max_left_rotation=20, max_right_rotation=20)\n",
    "p1.random_distortion(probability=1, grid_width=30, grid_height=30, magnitude=8)\n",
    "p1.process()"
   ]
  },
  {
   "cell_type": "code",
   "execution_count": 6,
   "metadata": {},
   "outputs": [
    {
     "name": "stderr",
     "output_type": "stream",
     "text": [
      "\r",
      "Executing Pipeline:   0%|          | 0/25 [00:00<?, ? Samples/s]"
     ]
    },
    {
     "name": "stdout",
     "output_type": "stream",
     "text": [
      "Initialised with 25 image(s) found.\n",
      "Output directory set to data_augmentation/source/200_frente/output."
     ]
    },
    {
     "name": "stderr",
     "output_type": "stream",
     "text": [
      "Processing <PIL.Image.Image image mode=RGBA size=1920x1920 at 0x7FBA8C0DF208>: 100%|██████████| 25/25 [00:05<00:00,  4.39 Samples/s]\n"
     ]
    }
   ],
   "source": [
    "# random distortion + rotate\n",
    "p3_1 = Augmentor.Pipeline(path_img)\n",
    "p3_1.rotate(probability=1, max_left_rotation=25, max_right_rotation=25)\n",
    "p3_1.random_distortion(probability=1, grid_width=30, grid_height=30, magnitude=8)\n",
    "p3_1.process()"
   ]
  },
  {
   "cell_type": "code",
   "execution_count": 7,
   "metadata": {},
   "outputs": [
    {
     "name": "stderr",
     "output_type": "stream",
     "text": [
      "\r",
      "Executing Pipeline:   0%|          | 0/25 [00:00<?, ? Samples/s]"
     ]
    },
    {
     "name": "stdout",
     "output_type": "stream",
     "text": [
      "Initialised with 25 image(s) found.\n",
      "Output directory set to data_augmentation/source/200_frente/output."
     ]
    },
    {
     "name": "stderr",
     "output_type": "stream",
     "text": [
      "Processing <PIL.Image.Image image mode=RGBA size=1920x1920 at 0x7FBA8C0C4F28>: 100%|██████████| 25/25 [00:06<00:00,  3.73 Samples/s]\n"
     ]
    }
   ],
   "source": [
    "# random skew + rotate + random distortion\n",
    "p4 = Augmentor.Pipeline(path_img)\n",
    "p4.rotate(probability=1, max_left_rotation=25, max_right_rotation=25)\n",
    "p4.skew(probability=1, magnitude=0.6)\n",
    "p4.random_distortion(probability=1, grid_width=30, grid_height=30, magnitude=8)\n",
    "p4.process()"
   ]
  },
  {
   "cell_type": "code",
   "execution_count": 8,
   "metadata": {},
   "outputs": [
    {
     "name": "stderr",
     "output_type": "stream",
     "text": [
      "\r",
      "Executing Pipeline:   0%|          | 0/25 [00:00<?, ? Samples/s]"
     ]
    },
    {
     "name": "stdout",
     "output_type": "stream",
     "text": [
      "Initialised with 25 image(s) found.\n",
      "Output directory set to data_augmentation/source/200_frente/output."
     ]
    },
    {
     "name": "stderr",
     "output_type": "stream",
     "text": [
      "Processing <PIL.Image.Image image mode=RGBA size=1920x1920 at 0x7FBA8C0D8780>: 100%|██████████| 25/25 [00:05<00:00,  4.19 Samples/s]\n"
     ]
    }
   ],
   "source": [
    "# random skew + rotate\n",
    "p4 = Augmentor.Pipeline(path_img)\n",
    "p4.rotate(probability=1, max_left_rotation=25, max_right_rotation=25)\n",
    "p4.skew(probability=1, magnitude=0.8)\n",
    "p4.process()"
   ]
  },
  {
   "cell_type": "code",
   "execution_count": 9,
   "metadata": {},
   "outputs": [
    {
     "name": "stderr",
     "output_type": "stream",
     "text": [
      "\r",
      "Executing Pipeline:   0%|          | 0/25 [00:00<?, ? Samples/s]"
     ]
    },
    {
     "name": "stdout",
     "output_type": "stream",
     "text": [
      "Initialised with 25 image(s) found.\n",
      "Output directory set to data_augmentation/source/200_frente/output."
     ]
    },
    {
     "name": "stderr",
     "output_type": "stream",
     "text": [
      "Processing <PIL.Image.Image image mode=RGBA size=1920x1920 at 0x7FBA8C0ED588>: 100%|██████████| 25/25 [00:05<00:00,  4.25 Samples/s]\n"
     ]
    }
   ],
   "source": [
    "# shear + rotate\n",
    "p5 = Augmentor.Pipeline(path_img)\n",
    "p5.shear(probability=1, max_shear_left=25, max_shear_right=25)\n",
    "p5.rotate(probability=1, max_left_rotation=25, max_right_rotation=25)\n",
    "#p5.random_distortion(probability=0.6, grid_width=40, grid_height=40, magnitude=8)\n",
    "p5.process()"
   ]
  },
  {
   "cell_type": "code",
   "execution_count": 10,
   "metadata": {},
   "outputs": [
    {
     "name": "stderr",
     "output_type": "stream",
     "text": [
      "\r",
      "Executing Pipeline:   0%|          | 0/25 [00:00<?, ? Samples/s]"
     ]
    },
    {
     "name": "stdout",
     "output_type": "stream",
     "text": [
      "Initialised with 25 image(s) found.\n",
      "Output directory set to data_augmentation/source/200_frente/output."
     ]
    },
    {
     "name": "stderr",
     "output_type": "stream",
     "text": [
      "Processing <PIL.Image.Image image mode=RGBA size=1920x1920 at 0x7FBAC4074D30>: 100%|██████████| 25/25 [00:07<00:00,  3.21 Samples/s]\n"
     ]
    }
   ],
   "source": [
    "# shear + rotate + random distortion\n",
    "p5 = Augmentor.Pipeline(path_img)\n",
    "p5.shear(probability=1, max_shear_left=25, max_shear_right=25)\n",
    "p5.rotate(probability=1, max_left_rotation=25, max_right_rotation=25)\n",
    "p5.random_distortion(probability=1, grid_width=30, grid_height=30, magnitude=8)\n",
    "p5.process()"
   ]
  },
  {
   "cell_type": "code",
   "execution_count": null,
   "metadata": {},
   "outputs": [],
   "source": []
  }
 ],
 "metadata": {
  "kernelspec": {
   "display_name": "Python 3",
   "language": "python",
   "name": "python3"
  },
  "language_info": {
   "codemirror_mode": {
    "name": "ipython",
    "version": 3
   },
   "file_extension": ".py",
   "mimetype": "text/x-python",
   "name": "python",
   "nbconvert_exporter": "python",
   "pygments_lexer": "ipython3",
   "version": "3.6.9"
  }
 },
 "nbformat": 4,
 "nbformat_minor": 4
}
