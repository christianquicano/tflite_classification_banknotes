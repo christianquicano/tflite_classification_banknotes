{
 "cells": [
  {
   "cell_type": "markdown",
   "metadata": {},
   "source": [
    "# 1.3.Create_Data_Augmentation_With_AutoAugmentation\n",
    "https://github.com/christianquicano/AutoAugment/blob/master/AutoAugment_Exploration.ipynb"
   ]
  },
  {
   "cell_type": "code",
   "execution_count": 1,
   "metadata": {},
   "outputs": [],
   "source": [
    "from autoaugment import ImageNetPolicy, CIFAR10Policy, SVHNPolicy, SubPolicy\n",
    "from PIL import Image, ImageEnhance, ImageOps\n",
    "import os\n",
    "import numpy as np\n",
    "import random"
   ]
  },
  {
   "cell_type": "code",
   "execution_count": 14,
   "metadata": {},
   "outputs": [],
   "source": [
    "size = 224\n",
    "label = '200'\n",
    "path_images = 'data_' + str(size) + '/train/' + label + '/'\n",
    "path_augmentation_images = 'data_' + str(size) + '/train/' + label + '_aug/'"
   ]
  },
  {
   "cell_type": "code",
   "execution_count": 15,
   "metadata": {},
   "outputs": [],
   "source": [
    "\n",
    "ranges = {\n",
    "    \"shearX\": np.linspace(0, 0.3, 10),\n",
    "    \"shearY\": np.linspace(0, 0.3, 10),\n",
    "    \"translateX\": np.linspace(0, 150 / 331, 10),\n",
    "    \"translateY\": np.linspace(0, 150 / 331, 10),\n",
    "    \"rotate\": np.linspace(0, 30, 10),\n",
    "    \"color\": np.linspace(0.0, 0.9, 10),\n",
    "    \"posterize\": np.round(np.linspace(8, 4, 10), 0).astype(np.int),\n",
    "    \"solarize\": np.linspace(256, 0, 10),\n",
    "    \"contrast\": np.linspace(0.0, 0.9, 10),\n",
    "    \"sharpness\": np.linspace(0.0, 0.9, 10),\n",
    "    \"brightness\": np.linspace(0.0, 0.9, 10),\n",
    "    \"autocontrast\": [0] * 10,\n",
    "    \"equalize\": [0] * 10,\n",
    "    \"invert\": [0] * 10\n",
    "}\n",
    "\n",
    "func = {\n",
    "    \"shearX\": lambda img, magnitude: img.transform(\n",
    "        img.size, Image.AFFINE, (1, magnitude * random.choice([-1, 1]), 0, 0, 1, 0),\n",
    "        Image.BICUBIC, fillcolor=(128, 128, 128)),\n",
    "    \"shearY\": lambda img, magnitude: img.transform(\n",
    "        img.size, Image.AFFINE, (1, 0, 0, magnitude * random.choice([-1, 1]), 1, 0),\n",
    "        Image.BICUBIC, fillcolor=(128, 128, 128)),\n",
    "    \"translateX\": lambda img, magnitude: img.transform(\n",
    "        img.size, Image.AFFINE, (1, 0, magnitude * img.size[0] * random.choice([-1, 1]), 0, 1, 0),\n",
    "        fillcolor=(128, 128, 128)),\n",
    "    \"translateY\": lambda img, magnitude: img.transform(\n",
    "        img.size, Image.AFFINE, (1, 0, 0, 0, 1, magnitude * img.size[1] * random.choice([-1, 1])),\n",
    "        fillcolor=(128, 128, 128)),\n",
    "    \"rotate\": lambda img, magnitude: img.rotate(magnitude * random.choice([-1, 1])),\n",
    "    \"color\": lambda img, magnitude: ImageEnhance.Color(img).enhance(1 + magnitude * random.choice([-1, 1])),\n",
    "    \"posterize\": lambda img, magnitude: ImageOps.posterize(img, magnitude),\n",
    "    \"solarize\": lambda img, magnitude: ImageOps.solarize(img, magnitude),\n",
    "    \"contrast\": lambda img, magnitude: ImageEnhance.Contrast(img).enhance(\n",
    "        1 + magnitude * random.choice([-1, 1])),\n",
    "    \"sharpness\": lambda img, magnitude: ImageEnhance.Sharpness(img).enhance(\n",
    "        1 + magnitude * random.choice([-1, 1])),\n",
    "    \"brightness\": lambda img, magnitude: ImageEnhance.Brightness(img).enhance(\n",
    "        1 + magnitude * random.choice([-1, 1])),\n",
    "    \"autocontrast\": lambda img, magnitude: ImageOps.autocontrast(img),\n",
    "    \"equalize\": lambda img, magnitude: ImageOps.equalize(img),\n",
    "    \"invert\": lambda img, magnitude: ImageOps.invert(img)\n",
    "}"
   ]
  },
  {
   "cell_type": "code",
   "execution_count": 16,
   "metadata": {},
   "outputs": [
    {
     "name": "stdout",
     "output_type": "stream",
     "text": [
      "start resize images\n",
      "processing ...\n",
      "Images created: 1031\n",
      "Images which can not created: 0\n"
     ]
    }
   ],
   "source": [
    "files = os.listdir(path_images)\n",
    "i = 0\n",
    "j = 0\n",
    "print(\"start resize images\")\n",
    "print(\"processing ...\")\n",
    "for file in files:\n",
    "    try:\n",
    "        path_image = path_images + file\n",
    "        image = Image.open(path_image)\n",
    "        \n",
    "        #Creando imagen colores invertidos\n",
    "        path_img1 = path_augmentation_images + str(i) + '_invert.png'\n",
    "        img1 = func[\"invert\"](image, ranges[\"invert\"][2])\n",
    "        img1.save(path_img1)\n",
    "        \n",
    "        #Creando imagen con mayor contraste de 0.9 magnitude\n",
    "        path_img2 = path_augmentation_images + str(i) + '_contrast.png'\n",
    "        img2 = func[\"contrast\"](image, ranges[\"contrast\"][9])\n",
    "        img2.save(path_img2)\n",
    "        \n",
    "        #Creando imagen con mayor brillo de 0.6 magnitude\n",
    "        path_img3 = path_augmentation_images + str(i) + '_brightness.png'\n",
    "        img3 = func[\"brightness\"](image, ranges[\"brightness\"][6])\n",
    "        img3.save(path_img3)\n",
    "        \n",
    "        #Creando imagen con mayor solarize\n",
    "        path_img4 = path_augmentation_images + str(i) + '_solarize.png'\n",
    "        img4 = func[\"solarize\"](image, ranges[\"solarize\"][6])\n",
    "        img4.save(path_img4)\n",
    "        \n",
    "        i += 1\n",
    "    except Exception as e:\n",
    "        j += 1\n",
    "        print(e)\n",
    "        \n",
    "print(\"Images created: \" + str(i))\n",
    "print(\"Images which can not created: \" + str(j))\n",
    "\n"
   ]
  },
  {
   "cell_type": "code",
   "execution_count": null,
   "metadata": {},
   "outputs": [],
   "source": []
  }
 ],
 "metadata": {
  "kernelspec": {
   "display_name": "Python 3",
   "language": "python",
   "name": "python3"
  },
  "language_info": {
   "codemirror_mode": {
    "name": "ipython",
    "version": 3
   },
   "file_extension": ".py",
   "mimetype": "text/x-python",
   "name": "python",
   "nbconvert_exporter": "python",
   "pygments_lexer": "ipython3",
   "version": "3.6.9"
  }
 },
 "nbformat": 4,
 "nbformat_minor": 4
}
