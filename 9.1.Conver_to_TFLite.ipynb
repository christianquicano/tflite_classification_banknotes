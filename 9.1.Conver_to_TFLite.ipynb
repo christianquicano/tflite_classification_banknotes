{
 "cells": [
  {
   "cell_type": "markdown",
   "metadata": {},
   "source": [
    "# 9.1.Conver_to_TFLite"
   ]
  },
  {
   "cell_type": "code",
   "execution_count": 8,
   "metadata": {},
   "outputs": [],
   "source": [
    "import tensorflow as tf\n",
    "\n",
    "from tensorflow.keras.applications import MobileNetV2\n",
    "from tensorflow.keras.models import Sequential\n",
    "from tensorflow.keras.layers import Dense, Flatten"
   ]
  },
  {
   "cell_type": "code",
   "execution_count": 13,
   "metadata": {},
   "outputs": [],
   "source": [
    "img_size = 224\n",
    "input_shape = (img_size, img_size, 3)\n",
    "\n",
    "path_checkpoints = 'checkpoint_MobileNetV2'\n",
    "path_checkpoints = 'checkpoint_MobileNetV2/all_labels_with_aug/'\n",
    "\n",
    "path_model_lite = 'model_tflite/'"
   ]
  },
  {
   "cell_type": "code",
   "execution_count": 10,
   "metadata": {},
   "outputs": [],
   "source": [
    "classNames = ['10', '100', '20', '200', '50']\n",
    "classNames_ids = [0, 1, 2, 3, 4]"
   ]
  },
  {
   "cell_type": "code",
   "execution_count": 17,
   "metadata": {},
   "outputs": [],
   "source": [
    "model1_path = path_model_lite + 'model1.tflite'\n",
    "checkpoint_1 = 'epoch-001-val_loss:0.005232-val_accuracy:0.998575.hdf5'\n",
    "base_model = MobileNetV2(\n",
    "                    include_top=False,\n",
    "                    weights='imagenet',\n",
    "                    input_shape=input_shape\n",
    "                   )\n",
    "\n",
    "model_1 = tf.keras.Sequential([base_model,\n",
    "                             Flatten(),\n",
    "                             Dense(len(classNames_ids), activation='softmax')\n",
    "                            ])\n",
    "\n",
    "model_1.load_weights(path_checkpoints + checkpoint_1)"
   ]
  },
  {
   "cell_type": "code",
   "execution_count": 18,
   "metadata": {},
   "outputs": [
    {
     "name": "stdout",
     "output_type": "stream",
     "text": [
      "WARNING:tensorflow:From /usr/local/lib/python3.6/dist-packages/tensorflow/python/training/tracking/tracking.py:111: Model.state_updates (from tensorflow.python.keras.engine.training) is deprecated and will be removed in a future version.\n",
      "Instructions for updating:\n",
      "This property should not be used in TensorFlow 2.0, as updates are applied automatically.\n",
      "WARNING:tensorflow:From /usr/local/lib/python3.6/dist-packages/tensorflow/python/training/tracking/tracking.py:111: Layer.updates (from tensorflow.python.keras.engine.base_layer) is deprecated and will be removed in a future version.\n",
      "Instructions for updating:\n",
      "This property should not be used in TensorFlow 2.0, as updates are applied automatically.\n",
      "INFO:tensorflow:Assets written to: /tmp/tmp01_an1ra/assets\n"
     ]
    }
   ],
   "source": [
    "# convert model\n",
    "converter = tf.lite.TFLiteConverter.from_keras_model(model_1)\n",
    "tflite_model = converter.convert()\n",
    "\n",
    "with open(model1_path, 'wb') as f:\n",
    "  f.write(tflite_model)"
   ]
  },
  {
   "cell_type": "code",
   "execution_count": 19,
   "metadata": {},
   "outputs": [],
   "source": [
    "model2_path = path_model_lite + 'model2.tflite'\n",
    "checkpoint_2 = 'epoch-518-val_loss:0.005229-val_accuracy:0.998575.hdf5'\n",
    "base_model = MobileNetV2(\n",
    "                    include_top=False,\n",
    "                    weights='imagenet',\n",
    "                    input_shape=input_shape\n",
    "                   )\n",
    "\n",
    "model_2 = tf.keras.Sequential([base_model,\n",
    "                             Flatten(),\n",
    "                             Dense(len(classNames_ids), activation='softmax')\n",
    "                            ])\n",
    "\n",
    "model_2.load_weights(path_checkpoints + checkpoint_2)"
   ]
  },
  {
   "cell_type": "code",
   "execution_count": 20,
   "metadata": {},
   "outputs": [
    {
     "name": "stdout",
     "output_type": "stream",
     "text": [
      "INFO:tensorflow:Assets written to: /tmp/tmpf8ql1oi2/assets\n"
     ]
    },
    {
     "name": "stderr",
     "output_type": "stream",
     "text": [
      "INFO:tensorflow:Assets written to: /tmp/tmpf8ql1oi2/assets\n"
     ]
    }
   ],
   "source": [
    "# convert model\n",
    "converter = tf.lite.TFLiteConverter.from_keras_model(model_2)\n",
    "tflite_model = converter.convert()\n",
    "\n",
    "with open(model2_path, 'wb') as f:\n",
    "  f.write(tflite_model)"
   ]
  },
  {
   "cell_type": "code",
   "execution_count": null,
   "metadata": {},
   "outputs": [],
   "source": []
  }
 ],
 "metadata": {
  "kernelspec": {
   "display_name": "Python 3",
   "language": "python",
   "name": "python3"
  },
  "language_info": {
   "codemirror_mode": {
    "name": "ipython",
    "version": 3
   },
   "file_extension": ".py",
   "mimetype": "text/x-python",
   "name": "python",
   "nbconvert_exporter": "python",
   "pygments_lexer": "ipython3",
   "version": "3.6.9"
  }
 },
 "nbformat": 4,
 "nbformat_minor": 4
}
