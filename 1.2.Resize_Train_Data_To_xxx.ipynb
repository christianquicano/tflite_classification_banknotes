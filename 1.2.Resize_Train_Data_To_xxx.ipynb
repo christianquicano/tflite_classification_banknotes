{
 "cells": [
  {
   "cell_type": "code",
   "execution_count": 1,
   "metadata": {},
   "outputs": [],
   "source": [
    "# Importamos la librerias\n",
    "import cv2\n",
    "import os"
   ]
  },
  {
   "cell_type": "code",
   "execution_count": 10,
   "metadata": {},
   "outputs": [],
   "source": [
    "image_size = 224 #tamaño de la imagen\n",
    "label = '200'\n",
    "path_images = 'data_' + str(image_size) + '/train/' + label + '/'\n",
    "#path_images_output = 'data_' + str(image_size) + '/train/' + label + '/'\n",
    "path_images_output = 'data_' + str(image_size) + '/train/banknotes/'"
   ]
  },
  {
   "cell_type": "code",
   "execution_count": 11,
   "metadata": {},
   "outputs": [
    {
     "name": "stdout",
     "output_type": "stream",
     "text": [
      "start resize images\n",
      "processing ...\n",
      "Images created: 1031\n",
      "Images which can not created: 0\n"
     ]
    }
   ],
   "source": [
    "files = os.listdir(path_images)\n",
    "i = 0\n",
    "j = 0\n",
    "print(\"start resize images\")\n",
    "print(\"processing ...\")\n",
    "for file in files:\n",
    "    try:\n",
    "        path_image = path_images + file\n",
    "        image = cv2.imread(path_image, -1)\n",
    "        image = cv2.resize(image,(image_size, image_size), interpolation = cv2.INTER_AREA)\n",
    "        path_image_output = path_images_output + label + '_' + str(i) + '.png'\n",
    "        cv2.imwrite(path_image_output, image)\n",
    "        i += 1\n",
    "    except:\n",
    "        j += 1\n",
    "        \n",
    "print(\"Images created: \" + str(i))\n",
    "print(\"Images which can not created: \" + str(j))"
   ]
  },
  {
   "cell_type": "code",
   "execution_count": null,
   "metadata": {},
   "outputs": [],
   "source": []
  }
 ],
 "metadata": {
  "kernelspec": {
   "display_name": "Python 3",
   "language": "python",
   "name": "python3"
  },
  "language_info": {
   "codemirror_mode": {
    "name": "ipython",
    "version": 3
   },
   "file_extension": ".py",
   "mimetype": "text/x-python",
   "name": "python",
   "nbconvert_exporter": "python",
   "pygments_lexer": "ipython3",
   "version": "3.6.9"
  }
 },
 "nbformat": 4,
 "nbformat_minor": 4
}
